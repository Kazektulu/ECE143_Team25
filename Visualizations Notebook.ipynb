{
 "cells": [
  {
   "cell_type": "markdown",
   "metadata": {},
   "source": [
    "# Discretionary Income Analysis\n",
    "\n",
    "## Jupyter Notebook for Visualizations\n",
    "\n",
    "Refer ReadMe for instructions to install required packages. Plotly package required for the visualizations"
   ]
  },
  {
   "cell_type": "code",
   "execution_count": 43,
   "metadata": {},
   "outputs": [],
   "source": [
    "import plotly\n",
    "import plotly.plotly as py\n",
    "import plotly.graph_objs as go\n",
    "import pandas as pd\n",
    "from plotly import tools\n",
    "\n",
    "# Uncomment the following line and set your credentials for plotly. This will enable saving of the plots to your account.\n",
    "# plotly.tools.set_credentials_file(username='____', api_key='____')\n",
    "plotly.tools.set_credentials_file(username='tk22466', api_key='rFAoMSGTq2ZmVfRaFI81')"
   ]
  },
  {
   "cell_type": "markdown",
   "metadata": {},
   "source": [
    "## Distribution of Discretionary Income over United States for Different Industries"
   ]
  },
  {
   "cell_type": "code",
   "execution_count": 44,
   "metadata": {},
   "outputs": [
    {
     "data": {
      "text/html": [
       "<iframe id=\"igraph\" scrolling=\"no\" style=\"border:none;\" seamless=\"seamless\" src=\"https://plot.ly/~tk22466/30.embed\" height=\"525px\" width=\"100%\"></iframe>"
      ],
      "text/plain": [
       "<chart_studio.tools.PlotlyDisplay object>"
      ]
     },
     "execution_count": 44,
     "metadata": {},
     "output_type": "execute_result"
    }
   ],
   "source": [
    "'''\n",
    "Analyze the distribution of discretionary income over United States for occupations:\n",
    "Management, Computer and Mathematical, Healthcare Practitioners and Techncial, Office and Administrative Support, Installation, Maintenance and Repair\n",
    "\n",
    "MANAGEMENT: East and Texas have prominently high discretionary income over West\n",
    "\n",
    "COMPUTER AND MATHEMATICAL: Consistency over the entire US\n",
    "\n",
    "HEALTHCARE PRACTITIONERS AND TECHNICAL: West wins over the East\n",
    "\n",
    "OFFICE AND ADMINISTRATIVE SUPPORT: Struggle to make meets end - Negative Discretionary Income for top metropolitan cities\n",
    "\n",
    "'''\n",
    "from plot_us_map_slide import plot_US_Map_slider\n",
    "\n",
    "data_slider, layout = plot_US_Map_slider() #get the data and layout dictionaries\n",
    "fig = dict(data=data_slider, layout=layout) #create the figure using data and layout setup completed in the imported file\n",
    "py.iplot(fig, filename='us_map_slider') #display the figure"
   ]
  },
  {
   "attachments": {},
   "cell_type": "markdown",
   "metadata": {},
   "source": [
    "## Analysis of Trends in Income Components for Different Regions of US"
   ]
  },
  {
   "cell_type": "code",
   "execution_count": 57,
   "metadata": {},
   "outputs": [
    {
     "name": "stdout",
     "output_type": "stream",
     "text": [
      "This is the format of your plot grid:\n",
      "[ (1,1) x1,y1 ]  [ (1,2) x2,y2 ]\n",
      "[ (2,1) x3,y3           -      ]\n",
      "\n"
     ]
    },
    {
     "data": {
      "text/html": [
       "<iframe id=\"igraph\" scrolling=\"no\" style=\"border:none;\" seamless=\"seamless\" src=\"https://plot.ly/~tk22466/20.embed\" height=\"525px\" width=\"100%\"></iframe>"
      ],
      "text/plain": [
       "<chart_studio.tools.PlotlyDisplay object>"
      ]
     },
     "execution_count": 57,
     "metadata": {},
     "output_type": "execute_result"
    }
   ],
   "source": [
    "'''\n",
    "Analyze the patterns between cost of living and quality of life observed in the three broad regions of US:\n",
    "EAST, WEST and CENTRAL\n",
    "'''\n",
    "\n",
    "from plot_line_graph import plot_line_chart_trace\n",
    "\n",
    "east_df = pd.read_excel('raw_data/QoL_East.xlsx')\n",
    "east_df_groups = east_df.groupby('state',sort=False)\n",
    "east_mean_df = east_df_groups.mean().sort_values(by=['Discretionary Income'])\n",
    "\n",
    "west_df = pd.read_excel('raw_data/QoL_west.xlsx')\n",
    "west_df_groups = west_df.groupby('state',sort=False)\n",
    "west_mean_df = west_df_groups.mean().sort_values(by=['Discretionary Income'])\n",
    "\n",
    "central_df = pd.read_excel('raw_data/QoL_central.xlsx')\n",
    "central_df_groups = central_df.groupby('state',sort=False)\n",
    "central_mean_df = central_df_groups.mean().sort_values(by=['Discretionary Income'])\n",
    "\n",
    "states1 = list(east_mean_df.index)\n",
    "col1 = east_mean_df['CoL Per Year'].values.tolist()\n",
    "qol1 = east_mean_df['quality_of_life_index'].values.tolist()\n",
    "\n",
    "states2 = list(west_mean_df.index)\n",
    "col2 = west_mean_df['CoL Per Year'].values.tolist()\n",
    "qol2 = west_mean_df['quality_of_life_index'].values.tolist()\n",
    "\n",
    "states3 = list(central_mean_df.index)\n",
    "col3 = central_mean_df['CoL Per Year'].values.tolist()\n",
    "qol3 = central_mean_df['quality_of_life_index'].values.tolist()\n",
    "\n",
    "trace_odd = 'Cost of Living'\n",
    "trace_even = 'Quality of Life'\n",
    "\n",
    "fig = plot_line_chart_trace(states1, col1, qol1, states2, col2, qol2, states3, col3, qol3, trace_odd, trace_even)\n",
    "\n",
    "fig['layout'].update(title='Comparison of Cost of Living with Quality of Life')\n",
    "py.iplot(fig, filename='col_qol')"
   ]
  },
  {
   "cell_type": "code",
   "execution_count": 58,
   "metadata": {},
   "outputs": [
    {
     "name": "stdout",
     "output_type": "stream",
     "text": [
      "This is the format of your plot grid:\n",
      "[ (1,1) x1,y1 ]  [ (1,2) x2,y2 ]\n",
      "[ (2,1) x3,y3           -      ]\n",
      "\n"
     ]
    },
    {
     "data": {
      "text/html": [
       "<iframe id=\"igraph\" scrolling=\"no\" style=\"border:none;\" seamless=\"seamless\" src=\"https://plot.ly/~tk22466/22.embed\" height=\"525px\" width=\"100%\"></iframe>"
      ],
      "text/plain": [
       "<chart_studio.tools.PlotlyDisplay object>"
      ]
     },
     "execution_count": 58,
     "metadata": {},
     "output_type": "execute_result"
    }
   ],
   "source": [
    "'''\n",
    "Analyze the patterns between quality of life and discretionary income observed in the three broad regions of US:\n",
    "EAST, WEST and CENTRAL\n",
    "'''\n",
    "\n",
    "east_df = pd.read_excel('raw_data/DI_East.xlsx')\n",
    "east_df_groups = east_df.groupby('state',sort=False)\n",
    "east_mean_df = east_df_groups.mean().sort_values(by=['Discretionary Income'])\n",
    "\n",
    "west_df = pd.read_excel('raw_data/DI_west.xlsx')\n",
    "west_df_groups = west_df.groupby('state',sort=False)\n",
    "west_mean_df = west_df_groups.mean().sort_values(by=['Discretionary Income'])\n",
    "\n",
    "central_df = pd.read_excel('raw_data/DI_central.xlsx')\n",
    "central_df_groups = central_df.groupby('state',sort=False)\n",
    "central_mean_df = central_df_groups.mean().sort_values(by=['Discretionary Income'])\n",
    "\n",
    "states1 = list(east_mean_df.index)\n",
    "di1 = east_mean_df['Discretionary Income'].values.tolist()\n",
    "qol1 = east_mean_df['quality_of_life_index'].values.tolist()\n",
    "\n",
    "states2 = list(west_mean_df.index)\n",
    "di2 = west_mean_df['Discretionary Income'].values.tolist()\n",
    "qol2 = west_mean_df['quality_of_life_index'].values.tolist()\n",
    "\n",
    "states3 = list(central_mean_df.index)\n",
    "di3 = central_mean_df['Discretionary Income'].values.tolist()\n",
    "qol3 = central_mean_df['quality_of_life_index'].values.tolist()\n",
    "\n",
    "trace_odd = 'Discretionary Income'\n",
    "trace_even = 'Quality of Life'\n",
    "\n",
    "fig = plot_line_chart_trace(states1, di1, qol1, states2, di2, qol2, states3, di3, qol3, trace_odd, trace_even)\n",
    "\n",
    "fig['layout']['yaxis1'].update(range=[0, 1])\n",
    "fig['layout']['yaxis2'].update(range=[0, 1])\n",
    "\n",
    "fig['layout'].update(title='Comparison of Quality of Life with Discretionary Income')\n",
    "py.iplot(fig, filename='qol_di')"
   ]
  },
  {
   "attachments": {},
   "cell_type": "markdown",
   "metadata": {},
   "source": [
    "## Comparison of Top Metropolitan Cities with their Neighbors in that State"
   ]
  },
  {
   "cell_type": "code",
   "execution_count": 49,
   "metadata": {},
   "outputs": [
    {
     "data": {
      "text/html": [
       "<iframe id=\"igraph\" scrolling=\"no\" style=\"border:none;\" seamless=\"seamless\" src=\"https://plot.ly/~tk22466/4.embed\" height=\"525px\" width=\"100%\"></iframe>"
      ],
      "text/plain": [
       "<chart_studio.tools.PlotlyDisplay object>"
      ]
     },
     "execution_count": 49,
     "metadata": {},
     "output_type": "execute_result"
    }
   ],
   "source": [
    "'''\n",
    "Analyze discretionary income of metropolitan cities in comparison with their neighboring cities with better \n",
    "quality of life and lower population\n",
    "Population Decreases and Quality of Life Increases from First City to Last\n",
    "'''\n",
    "\n",
    "from plot_bar_metropolitan import plot_metropolitan_data, plot_metropolitan_trace\n",
    "\n",
    "Cities, city1, city2, city3 = plot_metropolitan_data()\n",
    "color1 = ['rgb(128,0,0)','rgba(204,204,204,1)','rgba(204,204,204,1)','rgba(204,204,204,1)']\n",
    "color2 = ['rgb(230,25,75)','rgba(204,204,204,1)','rgba(204,204,204,1)','rgba(204,204,204,1)']\n",
    "color3 = ['rgb(250,190,190)','rgba(204,204,204,1)','rgba(204,204,204,1)','rgba(204,204,204,1)']\n",
    "\n",
    "data, layout = plot_metropolitan_trace(Cities, city1, city2, city3, color1, color2, color3)\n",
    "fig = go.Figure(data=data, layout=layout)\n",
    "py.iplot(fig, filename='di_main_cities_ny')"
   ]
  },
  {
   "cell_type": "code",
   "execution_count": 50,
   "metadata": {},
   "outputs": [
    {
     "data": {
      "text/html": [
       "<iframe id=\"igraph\" scrolling=\"no\" style=\"border:none;\" seamless=\"seamless\" src=\"https://plot.ly/~tk22466/6.embed\" height=\"525px\" width=\"100%\"></iframe>"
      ],
      "text/plain": [
       "<chart_studio.tools.PlotlyDisplay object>"
      ]
     },
     "execution_count": 50,
     "metadata": {},
     "output_type": "execute_result"
    }
   ],
   "source": [
    "color1 = ['rgb(128,0,0)','rgb(128,0,0)','rgba(204,204,204,1)','rgba(204,204,204,1)']\n",
    "color2 = ['rgb(230,25,75)','rgb(230,25,75)','rgba(204,204,204,1)','rgba(204,204,204,1)']\n",
    "color3 = ['rgb(250,190,190)','rgb(250,190,190)','rgba(204,204,204,1)','rgba(204,204,204,1)']\n",
    "\n",
    "data, layout = plot_metropolitan_trace(Cities, city1, city2, city3, color1, color2, color3)\n",
    "fig = go.Figure(data=data, layout=layout)\n",
    "py.iplot(fig, filename='di_main_cities_ca')"
   ]
  },
  {
   "cell_type": "code",
   "execution_count": 51,
   "metadata": {},
   "outputs": [
    {
     "data": {
      "text/html": [
       "<iframe id=\"igraph\" scrolling=\"no\" style=\"border:none;\" seamless=\"seamless\" src=\"https://plot.ly/~tk22466/8.embed\" height=\"525px\" width=\"100%\"></iframe>"
      ],
      "text/plain": [
       "<chart_studio.tools.PlotlyDisplay object>"
      ]
     },
     "execution_count": 51,
     "metadata": {},
     "output_type": "execute_result"
    }
   ],
   "source": [
    "color1 = ['rgb(128,0,0)','rgb(128,0,0)','rgb(128,0,0)','rgba(204,204,204,1)']\n",
    "color2 = ['rgb(230,25,75)','rgb(230,25,75)','rgb(230,25,75)','rgba(204,204,204,1)']\n",
    "color3 = ['rgb(250,190,190)','rgb(250,190,190)','rgb(250,190,190)','rgba(204,204,204,1)']\n",
    "\n",
    "data, layout = plot_metropolitan_trace(Cities, city1, city2, city3, color1, color2, color3)\n",
    "fig = go.Figure(data=data, layout=layout)\n",
    "py.iplot(fig, filename='di_main_cities_tx')"
   ]
  },
  {
   "cell_type": "code",
   "execution_count": 52,
   "metadata": {},
   "outputs": [
    {
     "data": {
      "text/html": [
       "<iframe id=\"igraph\" scrolling=\"no\" style=\"border:none;\" seamless=\"seamless\" src=\"https://plot.ly/~tk22466/24.embed\" height=\"525px\" width=\"100%\"></iframe>"
      ],
      "text/plain": [
       "<chart_studio.tools.PlotlyDisplay object>"
      ]
     },
     "execution_count": 52,
     "metadata": {},
     "output_type": "execute_result"
    }
   ],
   "source": [
    "color1 = ['rgb(128,0,0)','rgb(128,0,0)','rgb(128,0,0)','rgb(128,0,0)']\n",
    "color2 = ['rgb(230,25,75)','rgb(230,25,75)','rgb(230,25,75)','rgb(230,25,75)']\n",
    "color3 = ['rgb(250,190,190)','rgb(250,190,190)','rgb(250,190,190)','rgb(250,190,190)']\n",
    "\n",
    "data, layout = plot_metropolitan_trace(Cities, city1, city2, city3, color1, color2, color3)\n",
    "fig = go.Figure(data=data, layout=layout)\n",
    "py.iplot(fig, filename='di_main_cities_fl')"
   ]
  },
  {
   "cell_type": "markdown",
   "metadata": {},
   "source": [
    "## Use Case of our Discretionary Income Analysis Tool"
   ]
  },
  {
   "cell_type": "code",
   "execution_count": 45,
   "metadata": {},
   "outputs": [
    {
     "data": {
      "text/html": [
       "<iframe id=\"igraph\" scrolling=\"no\" style=\"border:none;\" seamless=\"seamless\" src=\"https://plot.ly/~tk22466/36.embed\" height=\"525px\" width=\"100%\"></iframe>"
      ],
      "text/plain": [
       "<chart_studio.tools.PlotlyDisplay object>"
      ]
     },
     "execution_count": 45,
     "metadata": {},
     "output_type": "execute_result"
    }
   ],
   "source": [
    "'''\n",
    "Consider four sample data science jobs:\n",
    "1. Game Changer - New York City, NY; Salary - 134,958$/year\n",
    "2. Yelp - San Francisco, CA; Salary - 130,405$/year\n",
    "3. Apple - Austin, TX; Salary - 127,095$/year\n",
    "4. IBM - Raleigh, NC; Salary - 112,045$/year\n",
    "\n",
    "Analyze the best job offer\n",
    "'''\n",
    "\n",
    "from plot_bar_job_sample import bar_plot_data_format1, bar_plot_data_format2, bar_plot_trace_create\n",
    "\n",
    "NY, SF, TX, NC, Income = bar_plot_data_format1()\n",
    "data, layout = bar_plot_trace_create(Income, NY, SF, TX, NC, 'Income breakdown for Job Postings')\n",
    "\n",
    "fig = go.Figure(data=data, layout=layout)\n",
    "py.iplot(fig, filename='job_sample_bar_comp1')"
   ]
  },
  {
   "cell_type": "code",
   "execution_count": 46,
   "metadata": {},
   "outputs": [
    {
     "data": {
      "text/html": [
       "<iframe id=\"igraph\" scrolling=\"no\" style=\"border:none;\" seamless=\"seamless\" src=\"https://plot.ly/~tk22466/34.embed\" height=\"525px\" width=\"100%\"></iframe>"
      ],
      "text/plain": [
       "<chart_studio.tools.PlotlyDisplay object>"
      ]
     },
     "execution_count": 46,
     "metadata": {},
     "output_type": "execute_result"
    }
   ],
   "source": [
    "NY, SF, TX, NC, Income = bar_plot_data_format2()\n",
    "data, layout = bar_plot_trace_create(Income, NY, SF, TX, NC, 'Discretionary Income and Quality of Life Comparison')\n",
    "\n",
    "fig = go.Figure(data=data, layout=layout)\n",
    "py.iplot(fig, filename='job_sample_bar_comp2')"
   ]
  },
  {
   "cell_type": "code",
   "execution_count": 47,
   "metadata": {},
   "outputs": [
    {
     "data": {
      "text/html": [
       "<iframe id=\"igraph\" scrolling=\"no\" style=\"border:none;\" seamless=\"seamless\" src=\"https://plot.ly/~tk22466/38.embed\" height=\"525px\" width=\"100%\"></iframe>"
      ],
      "text/plain": [
       "<chart_studio.tools.PlotlyDisplay object>"
      ]
     },
     "execution_count": 47,
     "metadata": {},
     "output_type": "execute_result"
    }
   ],
   "source": [
    "from plot_pie_chart_job_sample import plot_pie_chart\n",
    "\n",
    "fig = plot_pie_chart()\n",
    "py.iplot(fig, filename='pie_chart_job_sample')"
   ]
  },
  {
   "cell_type": "code",
   "execution_count": null,
   "metadata": {},
   "outputs": [],
   "source": []
  }
 ],
 "metadata": {
  "kernelspec": {
   "display_name": "Python 3",
   "language": "python",
   "name": "python3"
  },
  "language_info": {
   "codemirror_mode": {
    "name": "ipython",
    "version": 3
   },
   "file_extension": ".py",
   "mimetype": "text/x-python",
   "name": "python",
   "nbconvert_exporter": "python",
   "pygments_lexer": "ipython3",
   "version": "3.7.1"
  }
 },
 "nbformat": 4,
 "nbformat_minor": 2
}
